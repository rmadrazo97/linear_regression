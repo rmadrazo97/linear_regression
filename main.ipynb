{
 "cells": [
  {
   "cell_type": "code",
   "execution_count": 1,
   "metadata": {},
   "outputs": [],
   "source": [
    "import pandas as pd\n",
    "import matplotlib.pyplot as plt\n",
    "import numpy as np\n",
    "# generate training data & normalize\n",
    "from sklearn import preprocessing\n",
    "from sklearn.model_selection import train_test_split\n",
    "import seaborn as sns\n"
   ]
  },
  {
   "cell_type": "markdown",
   "metadata": {},
   "source": [
    "## Model Implementation"
   ]
  },
  {
   "cell_type": "code",
   "execution_count": 140,
   "metadata": {},
   "outputs": [],
   "source": [
    "# cost function\n",
    "# Here we calculate the cost of our hypothesis based on a thetas array \n",
    "\n",
    "def cost1(x,y,thetas):\n",
    "    m = 2 * len(x)\n",
    "    hip = x @ thetas.T # using @ as matmul\n",
    "    to_sum = np.power(hip - y,2)\n",
    "    return np.sum(to_sum)/m"
   ]
  },
  {
   "cell_type": "code",
   "execution_count": 79,
   "metadata": {},
   "outputs": [],
   "source": []
  },
  {
   "cell_type": "code",
   "execution_count": 136,
   "metadata": {},
   "outputs": [],
   "source": [
    "# Gradient descent implementation\n",
    "# a = learning rate\n",
    "# ite = iterations\n",
    "\n",
    "# gradient descent function\n",
    "def grdDsc(x,y,thetas,a,ite):\n",
    "    cost = np.zeros(ite)\n",
    "    for i in range(ite):\n",
    "        hip = x @ thetas.T\n",
    "        to_sum = x * (hip - y)\n",
    "        thetas = thetas - (a/len(x)) * np.sum(to_sum, axis=0)\n",
    "        # calling cost function\n",
    "        cost[i] = cost1(x, y, thetas)\n",
    "        \n",
    "    # return cost and thethas together\n",
    "    return thetas,cost\n"
   ]
  },
  {
   "cell_type": "markdown",
   "metadata": {},
   "source": [
    "### Data Import & Basic Conversion and Analysis"
   ]
  },
  {
   "cell_type": "code",
   "execution_count": 5,
   "metadata": {},
   "outputs": [],
   "source": [
    "# load data\n",
    "# 1. LA\n",
    "la = pd.read_csv('./la.csv')\n",
    "# 2. NY\n",
    "ny = pd.read_csv('./ny.csv')\n"
   ]
  },
  {
   "cell_type": "code",
   "execution_count": 6,
   "metadata": {},
   "outputs": [
    {
     "data": {
      "text/html": [
       "<div>\n",
       "<style scoped>\n",
       "    .dataframe tbody tr th:only-of-type {\n",
       "        vertical-align: middle;\n",
       "    }\n",
       "\n",
       "    .dataframe tbody tr th {\n",
       "        vertical-align: top;\n",
       "    }\n",
       "\n",
       "    .dataframe thead th {\n",
       "        text-align: right;\n",
       "    }\n",
       "</style>\n",
       "<table border=\"1\" class=\"dataframe\">\n",
       "  <thead>\n",
       "    <tr style=\"text-align: right;\">\n",
       "      <th></th>\n",
       "      <th>Commodity Name</th>\n",
       "      <th>City Name</th>\n",
       "      <th>Type</th>\n",
       "      <th>Package</th>\n",
       "      <th>Variety</th>\n",
       "      <th>Sub Variety</th>\n",
       "      <th>Grade</th>\n",
       "      <th>Date</th>\n",
       "      <th>Low Price</th>\n",
       "      <th>High Price</th>\n",
       "      <th>...</th>\n",
       "      <th>Color</th>\n",
       "      <th>Environment</th>\n",
       "      <th>Unit of Sale</th>\n",
       "      <th>Quality</th>\n",
       "      <th>Condition</th>\n",
       "      <th>Appearance</th>\n",
       "      <th>Storage</th>\n",
       "      <th>Crop</th>\n",
       "      <th>Repack</th>\n",
       "      <th>Trans Mode</th>\n",
       "    </tr>\n",
       "  </thead>\n",
       "  <tbody>\n",
       "    <tr>\n",
       "      <th>0</th>\n",
       "      <td>PUMPKINS</td>\n",
       "      <td>LOS ANGELES</td>\n",
       "      <td>NaN</td>\n",
       "      <td>24 inch bins</td>\n",
       "      <td>HOWDEN TYPE</td>\n",
       "      <td>NaN</td>\n",
       "      <td>NaN</td>\n",
       "      <td>09/24/2016</td>\n",
       "      <td>120.0</td>\n",
       "      <td>130.0</td>\n",
       "      <td>...</td>\n",
       "      <td>NaN</td>\n",
       "      <td>NaN</td>\n",
       "      <td>PER BIN</td>\n",
       "      <td>NaN</td>\n",
       "      <td>NaN</td>\n",
       "      <td>NaN</td>\n",
       "      <td>NaN</td>\n",
       "      <td>NaN</td>\n",
       "      <td>N</td>\n",
       "      <td>NaN</td>\n",
       "    </tr>\n",
       "    <tr>\n",
       "      <th>1</th>\n",
       "      <td>PUMPKINS</td>\n",
       "      <td>LOS ANGELES</td>\n",
       "      <td>NaN</td>\n",
       "      <td>24 inch bins</td>\n",
       "      <td>HOWDEN TYPE</td>\n",
       "      <td>NaN</td>\n",
       "      <td>NaN</td>\n",
       "      <td>09/24/2016</td>\n",
       "      <td>120.0</td>\n",
       "      <td>130.0</td>\n",
       "      <td>...</td>\n",
       "      <td>NaN</td>\n",
       "      <td>NaN</td>\n",
       "      <td>PER BIN</td>\n",
       "      <td>NaN</td>\n",
       "      <td>NaN</td>\n",
       "      <td>NaN</td>\n",
       "      <td>NaN</td>\n",
       "      <td>NaN</td>\n",
       "      <td>N</td>\n",
       "      <td>NaN</td>\n",
       "    </tr>\n",
       "    <tr>\n",
       "      <th>2</th>\n",
       "      <td>PUMPKINS</td>\n",
       "      <td>LOS ANGELES</td>\n",
       "      <td>NaN</td>\n",
       "      <td>24 inch bins</td>\n",
       "      <td>HOWDEN TYPE</td>\n",
       "      <td>NaN</td>\n",
       "      <td>NaN</td>\n",
       "      <td>10/01/2016</td>\n",
       "      <td>120.0</td>\n",
       "      <td>130.0</td>\n",
       "      <td>...</td>\n",
       "      <td>NaN</td>\n",
       "      <td>NaN</td>\n",
       "      <td>PER BIN</td>\n",
       "      <td>NaN</td>\n",
       "      <td>NaN</td>\n",
       "      <td>NaN</td>\n",
       "      <td>NaN</td>\n",
       "      <td>NaN</td>\n",
       "      <td>N</td>\n",
       "      <td>NaN</td>\n",
       "    </tr>\n",
       "    <tr>\n",
       "      <th>3</th>\n",
       "      <td>PUMPKINS</td>\n",
       "      <td>LOS ANGELES</td>\n",
       "      <td>NaN</td>\n",
       "      <td>24 inch bins</td>\n",
       "      <td>HOWDEN TYPE</td>\n",
       "      <td>NaN</td>\n",
       "      <td>NaN</td>\n",
       "      <td>10/01/2016</td>\n",
       "      <td>120.0</td>\n",
       "      <td>130.0</td>\n",
       "      <td>...</td>\n",
       "      <td>NaN</td>\n",
       "      <td>NaN</td>\n",
       "      <td>PER BIN</td>\n",
       "      <td>NaN</td>\n",
       "      <td>NaN</td>\n",
       "      <td>NaN</td>\n",
       "      <td>NaN</td>\n",
       "      <td>NaN</td>\n",
       "      <td>N</td>\n",
       "      <td>NaN</td>\n",
       "    </tr>\n",
       "    <tr>\n",
       "      <th>4</th>\n",
       "      <td>PUMPKINS</td>\n",
       "      <td>LOS ANGELES</td>\n",
       "      <td>NaN</td>\n",
       "      <td>24 inch bins</td>\n",
       "      <td>HOWDEN TYPE</td>\n",
       "      <td>NaN</td>\n",
       "      <td>NaN</td>\n",
       "      <td>10/08/2016</td>\n",
       "      <td>120.0</td>\n",
       "      <td>130.0</td>\n",
       "      <td>...</td>\n",
       "      <td>NaN</td>\n",
       "      <td>NaN</td>\n",
       "      <td>PER BIN</td>\n",
       "      <td>NaN</td>\n",
       "      <td>NaN</td>\n",
       "      <td>NaN</td>\n",
       "      <td>NaN</td>\n",
       "      <td>NaN</td>\n",
       "      <td>N</td>\n",
       "      <td>NaN</td>\n",
       "    </tr>\n",
       "  </tbody>\n",
       "</table>\n",
       "<p>5 rows × 25 columns</p>\n",
       "</div>"
      ],
      "text/plain": [
       "  Commodity Name    City Name  Type       Package      Variety Sub Variety  \\\n",
       "0       PUMPKINS  LOS ANGELES   NaN  24 inch bins  HOWDEN TYPE         NaN   \n",
       "1       PUMPKINS  LOS ANGELES   NaN  24 inch bins  HOWDEN TYPE         NaN   \n",
       "2       PUMPKINS  LOS ANGELES   NaN  24 inch bins  HOWDEN TYPE         NaN   \n",
       "3       PUMPKINS  LOS ANGELES   NaN  24 inch bins  HOWDEN TYPE         NaN   \n",
       "4       PUMPKINS  LOS ANGELES   NaN  24 inch bins  HOWDEN TYPE         NaN   \n",
       "\n",
       "   Grade        Date  Low Price  High Price  ...  Color  Environment  \\\n",
       "0    NaN  09/24/2016      120.0       130.0  ...    NaN          NaN   \n",
       "1    NaN  09/24/2016      120.0       130.0  ...    NaN          NaN   \n",
       "2    NaN  10/01/2016      120.0       130.0  ...    NaN          NaN   \n",
       "3    NaN  10/01/2016      120.0       130.0  ...    NaN          NaN   \n",
       "4    NaN  10/08/2016      120.0       130.0  ...    NaN          NaN   \n",
       "\n",
       "  Unit of Sale Quality Condition Appearance  Storage Crop  Repack  Trans Mode  \n",
       "0      PER BIN     NaN       NaN        NaN      NaN  NaN       N         NaN  \n",
       "1      PER BIN     NaN       NaN        NaN      NaN  NaN       N         NaN  \n",
       "2      PER BIN     NaN       NaN        NaN      NaN  NaN       N         NaN  \n",
       "3      PER BIN     NaN       NaN        NaN      NaN  NaN       N         NaN  \n",
       "4      PER BIN     NaN       NaN        NaN      NaN  NaN       N         NaN  \n",
       "\n",
       "[5 rows x 25 columns]"
      ]
     },
     "execution_count": 6,
     "metadata": {},
     "output_type": "execute_result"
    }
   ],
   "source": [
    "la.head()"
   ]
  },
  {
   "cell_type": "code",
   "execution_count": 7,
   "metadata": {},
   "outputs": [
    {
     "data": {
      "text/html": [
       "<div>\n",
       "<style scoped>\n",
       "    .dataframe tbody tr th:only-of-type {\n",
       "        vertical-align: middle;\n",
       "    }\n",
       "\n",
       "    .dataframe tbody tr th {\n",
       "        vertical-align: top;\n",
       "    }\n",
       "\n",
       "    .dataframe thead th {\n",
       "        text-align: right;\n",
       "    }\n",
       "</style>\n",
       "<table border=\"1\" class=\"dataframe\">\n",
       "  <thead>\n",
       "    <tr style=\"text-align: right;\">\n",
       "      <th></th>\n",
       "      <th>Commodity Name</th>\n",
       "      <th>City Name</th>\n",
       "      <th>Type</th>\n",
       "      <th>Package</th>\n",
       "      <th>Variety</th>\n",
       "      <th>Sub Variety</th>\n",
       "      <th>Grade</th>\n",
       "      <th>Date</th>\n",
       "      <th>Low Price</th>\n",
       "      <th>High Price</th>\n",
       "      <th>...</th>\n",
       "      <th>Color</th>\n",
       "      <th>Environment</th>\n",
       "      <th>Unit of Sale</th>\n",
       "      <th>Quality</th>\n",
       "      <th>Condition</th>\n",
       "      <th>Appearance</th>\n",
       "      <th>Storage</th>\n",
       "      <th>Crop</th>\n",
       "      <th>Repack</th>\n",
       "      <th>Trans Mode</th>\n",
       "    </tr>\n",
       "  </thead>\n",
       "  <tbody>\n",
       "    <tr>\n",
       "      <th>0</th>\n",
       "      <td>PUMPKINS</td>\n",
       "      <td>NEW YORK</td>\n",
       "      <td>NaN</td>\n",
       "      <td>36 inch bins</td>\n",
       "      <td>HOWDEN TYPE</td>\n",
       "      <td>NaN</td>\n",
       "      <td>NaN</td>\n",
       "      <td>09/24/2016</td>\n",
       "      <td>150</td>\n",
       "      <td>170</td>\n",
       "      <td>...</td>\n",
       "      <td>NaN</td>\n",
       "      <td>NaN</td>\n",
       "      <td>NaN</td>\n",
       "      <td>NaN</td>\n",
       "      <td>NaN</td>\n",
       "      <td>NaN</td>\n",
       "      <td>NaN</td>\n",
       "      <td>NaN</td>\n",
       "      <td>N</td>\n",
       "      <td>NaN</td>\n",
       "    </tr>\n",
       "    <tr>\n",
       "      <th>1</th>\n",
       "      <td>PUMPKINS</td>\n",
       "      <td>NEW YORK</td>\n",
       "      <td>NaN</td>\n",
       "      <td>36 inch bins</td>\n",
       "      <td>HOWDEN TYPE</td>\n",
       "      <td>NaN</td>\n",
       "      <td>NaN</td>\n",
       "      <td>09/24/2016</td>\n",
       "      <td>150</td>\n",
       "      <td>170</td>\n",
       "      <td>...</td>\n",
       "      <td>NaN</td>\n",
       "      <td>NaN</td>\n",
       "      <td>NaN</td>\n",
       "      <td>NaN</td>\n",
       "      <td>NaN</td>\n",
       "      <td>NaN</td>\n",
       "      <td>NaN</td>\n",
       "      <td>NaN</td>\n",
       "      <td>N</td>\n",
       "      <td>NaN</td>\n",
       "    </tr>\n",
       "    <tr>\n",
       "      <th>2</th>\n",
       "      <td>PUMPKINS</td>\n",
       "      <td>NEW YORK</td>\n",
       "      <td>NaN</td>\n",
       "      <td>36 inch bins</td>\n",
       "      <td>HOWDEN TYPE</td>\n",
       "      <td>NaN</td>\n",
       "      <td>NaN</td>\n",
       "      <td>09/24/2016</td>\n",
       "      <td>130</td>\n",
       "      <td>150</td>\n",
       "      <td>...</td>\n",
       "      <td>NaN</td>\n",
       "      <td>NaN</td>\n",
       "      <td>NaN</td>\n",
       "      <td>NaN</td>\n",
       "      <td>NaN</td>\n",
       "      <td>NaN</td>\n",
       "      <td>NaN</td>\n",
       "      <td>NaN</td>\n",
       "      <td>N</td>\n",
       "      <td>NaN</td>\n",
       "    </tr>\n",
       "    <tr>\n",
       "      <th>3</th>\n",
       "      <td>PUMPKINS</td>\n",
       "      <td>NEW YORK</td>\n",
       "      <td>NaN</td>\n",
       "      <td>36 inch bins</td>\n",
       "      <td>HOWDEN TYPE</td>\n",
       "      <td>NaN</td>\n",
       "      <td>NaN</td>\n",
       "      <td>09/24/2016</td>\n",
       "      <td>130</td>\n",
       "      <td>150</td>\n",
       "      <td>...</td>\n",
       "      <td>NaN</td>\n",
       "      <td>NaN</td>\n",
       "      <td>NaN</td>\n",
       "      <td>NaN</td>\n",
       "      <td>NaN</td>\n",
       "      <td>NaN</td>\n",
       "      <td>NaN</td>\n",
       "      <td>NaN</td>\n",
       "      <td>N</td>\n",
       "      <td>NaN</td>\n",
       "    </tr>\n",
       "    <tr>\n",
       "      <th>4</th>\n",
       "      <td>PUMPKINS</td>\n",
       "      <td>NEW YORK</td>\n",
       "      <td>NaN</td>\n",
       "      <td>36 inch bins</td>\n",
       "      <td>HOWDEN TYPE</td>\n",
       "      <td>NaN</td>\n",
       "      <td>NaN</td>\n",
       "      <td>09/24/2016</td>\n",
       "      <td>120</td>\n",
       "      <td>140</td>\n",
       "      <td>...</td>\n",
       "      <td>NaN</td>\n",
       "      <td>NaN</td>\n",
       "      <td>NaN</td>\n",
       "      <td>NaN</td>\n",
       "      <td>NaN</td>\n",
       "      <td>NaN</td>\n",
       "      <td>NaN</td>\n",
       "      <td>NaN</td>\n",
       "      <td>N</td>\n",
       "      <td>NaN</td>\n",
       "    </tr>\n",
       "  </tbody>\n",
       "</table>\n",
       "<p>5 rows × 25 columns</p>\n",
       "</div>"
      ],
      "text/plain": [
       "  Commodity Name City Name  Type       Package      Variety Sub Variety  \\\n",
       "0       PUMPKINS  NEW YORK   NaN  36 inch bins  HOWDEN TYPE         NaN   \n",
       "1       PUMPKINS  NEW YORK   NaN  36 inch bins  HOWDEN TYPE         NaN   \n",
       "2       PUMPKINS  NEW YORK   NaN  36 inch bins  HOWDEN TYPE         NaN   \n",
       "3       PUMPKINS  NEW YORK   NaN  36 inch bins  HOWDEN TYPE         NaN   \n",
       "4       PUMPKINS  NEW YORK   NaN  36 inch bins  HOWDEN TYPE         NaN   \n",
       "\n",
       "   Grade        Date  Low Price  High Price  ...  Color  Environment  \\\n",
       "0    NaN  09/24/2016        150         170  ...    NaN          NaN   \n",
       "1    NaN  09/24/2016        150         170  ...    NaN          NaN   \n",
       "2    NaN  09/24/2016        130         150  ...    NaN          NaN   \n",
       "3    NaN  09/24/2016        130         150  ...    NaN          NaN   \n",
       "4    NaN  09/24/2016        120         140  ...    NaN          NaN   \n",
       "\n",
       "  Unit of Sale Quality Condition Appearance  Storage Crop  Repack  Trans Mode  \n",
       "0          NaN     NaN       NaN        NaN      NaN  NaN       N         NaN  \n",
       "1          NaN     NaN       NaN        NaN      NaN  NaN       N         NaN  \n",
       "2          NaN     NaN       NaN        NaN      NaN  NaN       N         NaN  \n",
       "3          NaN     NaN       NaN        NaN      NaN  NaN       N         NaN  \n",
       "4          NaN     NaN       NaN        NaN      NaN  NaN       N         NaN  \n",
       "\n",
       "[5 rows x 25 columns]"
      ]
     },
     "execution_count": 7,
     "metadata": {},
     "output_type": "execute_result"
    }
   ],
   "source": [
    "ny.head()"
   ]
  },
  {
   "cell_type": "code",
   "execution_count": 8,
   "metadata": {},
   "outputs": [
    {
     "data": {
      "text/plain": [
       "Index(['Commodity Name', 'City Name', 'Type', 'Package', 'Variety',\n",
       "       'Sub Variety', 'Grade', 'Date', 'Low Price', 'High Price', 'Mostly Low',\n",
       "       'Mostly High', 'Origin', 'Origin District', 'Item Size', 'Color',\n",
       "       'Environment', 'Unit of Sale', 'Quality', 'Condition', 'Appearance',\n",
       "       'Storage', 'Crop', 'Repack', 'Trans Mode'],\n",
       "      dtype='object')"
      ]
     },
     "execution_count": 8,
     "metadata": {},
     "output_type": "execute_result"
    }
   ],
   "source": [
    "la.columns"
   ]
  },
  {
   "cell_type": "code",
   "execution_count": 9,
   "metadata": {},
   "outputs": [
    {
     "data": {
      "text/plain": [
       "Index(['Commodity Name', 'City Name', 'Type', 'Package', 'Variety',\n",
       "       'Sub Variety', 'Grade', 'Date', 'Low Price', 'High Price', 'Mostly Low',\n",
       "       'Mostly High', 'Origin', 'Origin District', 'Item Size', 'Color',\n",
       "       'Environment', 'Unit of Sale', 'Quality', 'Condition', 'Appearance',\n",
       "       'Storage', 'Crop', 'Repack', 'Trans Mode'],\n",
       "      dtype='object')"
      ]
     },
     "execution_count": 9,
     "metadata": {},
     "output_type": "execute_result"
    }
   ],
   "source": [
    "ny.columns"
   ]
  },
  {
   "cell_type": "code",
   "execution_count": 10,
   "metadata": {},
   "outputs": [
    {
     "data": {
      "text/html": [
       "<div>\n",
       "<style scoped>\n",
       "    .dataframe tbody tr th:only-of-type {\n",
       "        vertical-align: middle;\n",
       "    }\n",
       "\n",
       "    .dataframe tbody tr th {\n",
       "        vertical-align: top;\n",
       "    }\n",
       "\n",
       "    .dataframe thead th {\n",
       "        text-align: right;\n",
       "    }\n",
       "</style>\n",
       "<table border=\"1\" class=\"dataframe\">\n",
       "  <thead>\n",
       "    <tr style=\"text-align: right;\">\n",
       "      <th></th>\n",
       "      <th>Commodity Name</th>\n",
       "      <th>City Name</th>\n",
       "      <th>Type</th>\n",
       "      <th>Package</th>\n",
       "      <th>Variety</th>\n",
       "      <th>Sub Variety</th>\n",
       "      <th>Grade</th>\n",
       "      <th>Date</th>\n",
       "      <th>Low Price</th>\n",
       "      <th>High Price</th>\n",
       "      <th>...</th>\n",
       "      <th>Color</th>\n",
       "      <th>Environment</th>\n",
       "      <th>Unit of Sale</th>\n",
       "      <th>Quality</th>\n",
       "      <th>Condition</th>\n",
       "      <th>Appearance</th>\n",
       "      <th>Storage</th>\n",
       "      <th>Crop</th>\n",
       "      <th>Repack</th>\n",
       "      <th>Trans Mode</th>\n",
       "    </tr>\n",
       "  </thead>\n",
       "  <tbody>\n",
       "    <tr>\n",
       "      <th>0</th>\n",
       "      <td>PUMPKINS</td>\n",
       "      <td>LOS ANGELES</td>\n",
       "      <td>NaN</td>\n",
       "      <td>24 inch bins</td>\n",
       "      <td>HOWDEN TYPE</td>\n",
       "      <td>NaN</td>\n",
       "      <td>NaN</td>\n",
       "      <td>09/24/2016</td>\n",
       "      <td>120.0</td>\n",
       "      <td>130.0</td>\n",
       "      <td>...</td>\n",
       "      <td>NaN</td>\n",
       "      <td>NaN</td>\n",
       "      <td>PER BIN</td>\n",
       "      <td>NaN</td>\n",
       "      <td>NaN</td>\n",
       "      <td>NaN</td>\n",
       "      <td>NaN</td>\n",
       "      <td>NaN</td>\n",
       "      <td>N</td>\n",
       "      <td>NaN</td>\n",
       "    </tr>\n",
       "    <tr>\n",
       "      <th>1</th>\n",
       "      <td>PUMPKINS</td>\n",
       "      <td>LOS ANGELES</td>\n",
       "      <td>NaN</td>\n",
       "      <td>24 inch bins</td>\n",
       "      <td>HOWDEN TYPE</td>\n",
       "      <td>NaN</td>\n",
       "      <td>NaN</td>\n",
       "      <td>09/24/2016</td>\n",
       "      <td>120.0</td>\n",
       "      <td>130.0</td>\n",
       "      <td>...</td>\n",
       "      <td>NaN</td>\n",
       "      <td>NaN</td>\n",
       "      <td>PER BIN</td>\n",
       "      <td>NaN</td>\n",
       "      <td>NaN</td>\n",
       "      <td>NaN</td>\n",
       "      <td>NaN</td>\n",
       "      <td>NaN</td>\n",
       "      <td>N</td>\n",
       "      <td>NaN</td>\n",
       "    </tr>\n",
       "    <tr>\n",
       "      <th>2</th>\n",
       "      <td>PUMPKINS</td>\n",
       "      <td>LOS ANGELES</td>\n",
       "      <td>NaN</td>\n",
       "      <td>24 inch bins</td>\n",
       "      <td>HOWDEN TYPE</td>\n",
       "      <td>NaN</td>\n",
       "      <td>NaN</td>\n",
       "      <td>10/01/2016</td>\n",
       "      <td>120.0</td>\n",
       "      <td>130.0</td>\n",
       "      <td>...</td>\n",
       "      <td>NaN</td>\n",
       "      <td>NaN</td>\n",
       "      <td>PER BIN</td>\n",
       "      <td>NaN</td>\n",
       "      <td>NaN</td>\n",
       "      <td>NaN</td>\n",
       "      <td>NaN</td>\n",
       "      <td>NaN</td>\n",
       "      <td>N</td>\n",
       "      <td>NaN</td>\n",
       "    </tr>\n",
       "    <tr>\n",
       "      <th>3</th>\n",
       "      <td>PUMPKINS</td>\n",
       "      <td>LOS ANGELES</td>\n",
       "      <td>NaN</td>\n",
       "      <td>24 inch bins</td>\n",
       "      <td>HOWDEN TYPE</td>\n",
       "      <td>NaN</td>\n",
       "      <td>NaN</td>\n",
       "      <td>10/01/2016</td>\n",
       "      <td>120.0</td>\n",
       "      <td>130.0</td>\n",
       "      <td>...</td>\n",
       "      <td>NaN</td>\n",
       "      <td>NaN</td>\n",
       "      <td>PER BIN</td>\n",
       "      <td>NaN</td>\n",
       "      <td>NaN</td>\n",
       "      <td>NaN</td>\n",
       "      <td>NaN</td>\n",
       "      <td>NaN</td>\n",
       "      <td>N</td>\n",
       "      <td>NaN</td>\n",
       "    </tr>\n",
       "    <tr>\n",
       "      <th>4</th>\n",
       "      <td>PUMPKINS</td>\n",
       "      <td>LOS ANGELES</td>\n",
       "      <td>NaN</td>\n",
       "      <td>24 inch bins</td>\n",
       "      <td>HOWDEN TYPE</td>\n",
       "      <td>NaN</td>\n",
       "      <td>NaN</td>\n",
       "      <td>10/08/2016</td>\n",
       "      <td>120.0</td>\n",
       "      <td>130.0</td>\n",
       "      <td>...</td>\n",
       "      <td>NaN</td>\n",
       "      <td>NaN</td>\n",
       "      <td>PER BIN</td>\n",
       "      <td>NaN</td>\n",
       "      <td>NaN</td>\n",
       "      <td>NaN</td>\n",
       "      <td>NaN</td>\n",
       "      <td>NaN</td>\n",
       "      <td>N</td>\n",
       "      <td>NaN</td>\n",
       "    </tr>\n",
       "  </tbody>\n",
       "</table>\n",
       "<p>5 rows × 25 columns</p>\n",
       "</div>"
      ],
      "text/plain": [
       "  Commodity Name    City Name  Type       Package      Variety Sub Variety  \\\n",
       "0       PUMPKINS  LOS ANGELES   NaN  24 inch bins  HOWDEN TYPE         NaN   \n",
       "1       PUMPKINS  LOS ANGELES   NaN  24 inch bins  HOWDEN TYPE         NaN   \n",
       "2       PUMPKINS  LOS ANGELES   NaN  24 inch bins  HOWDEN TYPE         NaN   \n",
       "3       PUMPKINS  LOS ANGELES   NaN  24 inch bins  HOWDEN TYPE         NaN   \n",
       "4       PUMPKINS  LOS ANGELES   NaN  24 inch bins  HOWDEN TYPE         NaN   \n",
       "\n",
       "   Grade        Date  Low Price  High Price  ...  Color  Environment  \\\n",
       "0    NaN  09/24/2016      120.0       130.0  ...    NaN          NaN   \n",
       "1    NaN  09/24/2016      120.0       130.0  ...    NaN          NaN   \n",
       "2    NaN  10/01/2016      120.0       130.0  ...    NaN          NaN   \n",
       "3    NaN  10/01/2016      120.0       130.0  ...    NaN          NaN   \n",
       "4    NaN  10/08/2016      120.0       130.0  ...    NaN          NaN   \n",
       "\n",
       "  Unit of Sale Quality Condition Appearance  Storage Crop  Repack  Trans Mode  \n",
       "0      PER BIN     NaN       NaN        NaN      NaN  NaN       N         NaN  \n",
       "1      PER BIN     NaN       NaN        NaN      NaN  NaN       N         NaN  \n",
       "2      PER BIN     NaN       NaN        NaN      NaN  NaN       N         NaN  \n",
       "3      PER BIN     NaN       NaN        NaN      NaN  NaN       N         NaN  \n",
       "4      PER BIN     NaN       NaN        NaN      NaN  NaN       N         NaN  \n",
       "\n",
       "[5 rows x 25 columns]"
      ]
     },
     "execution_count": 10,
     "metadata": {},
     "output_type": "execute_result"
    }
   ],
   "source": [
    "# we can just concatenate data since they have the same columns\n",
    "joint = pd.concat([la, ny])\n",
    "joint.head()"
   ]
  },
  {
   "cell_type": "code",
   "execution_count": 11,
   "metadata": {},
   "outputs": [
    {
     "data": {
      "text/html": [
       "<div>\n",
       "<style scoped>\n",
       "    .dataframe tbody tr th:only-of-type {\n",
       "        vertical-align: middle;\n",
       "    }\n",
       "\n",
       "    .dataframe tbody tr th {\n",
       "        vertical-align: top;\n",
       "    }\n",
       "\n",
       "    .dataframe thead th {\n",
       "        text-align: right;\n",
       "    }\n",
       "</style>\n",
       "<table border=\"1\" class=\"dataframe\">\n",
       "  <thead>\n",
       "    <tr style=\"text-align: right;\">\n",
       "      <th></th>\n",
       "      <th>Commodity Name</th>\n",
       "      <th>City Name</th>\n",
       "      <th>Type</th>\n",
       "      <th>Package</th>\n",
       "      <th>Variety</th>\n",
       "      <th>Sub Variety</th>\n",
       "      <th>Grade</th>\n",
       "      <th>Date</th>\n",
       "      <th>Low Price</th>\n",
       "      <th>High Price</th>\n",
       "      <th>...</th>\n",
       "      <th>Color</th>\n",
       "      <th>Environment</th>\n",
       "      <th>Unit of Sale</th>\n",
       "      <th>Quality</th>\n",
       "      <th>Condition</th>\n",
       "      <th>Appearance</th>\n",
       "      <th>Storage</th>\n",
       "      <th>Crop</th>\n",
       "      <th>Repack</th>\n",
       "      <th>Trans Mode</th>\n",
       "    </tr>\n",
       "  </thead>\n",
       "  <tbody>\n",
       "    <tr>\n",
       "      <th>107</th>\n",
       "      <td>PUMPKINS</td>\n",
       "      <td>NEW YORK</td>\n",
       "      <td>NaN</td>\n",
       "      <td>bushel cartons</td>\n",
       "      <td>MINIATURE</td>\n",
       "      <td>NaN</td>\n",
       "      <td>NaN</td>\n",
       "      <td>09/09/2017</td>\n",
       "      <td>32.0</td>\n",
       "      <td>32.0</td>\n",
       "      <td>...</td>\n",
       "      <td>NaN</td>\n",
       "      <td>NaN</td>\n",
       "      <td>NaN</td>\n",
       "      <td>NaN</td>\n",
       "      <td>NaN</td>\n",
       "      <td>NaN</td>\n",
       "      <td>NaN</td>\n",
       "      <td>NaN</td>\n",
       "      <td>N</td>\n",
       "      <td>NaN</td>\n",
       "    </tr>\n",
       "    <tr>\n",
       "      <th>108</th>\n",
       "      <td>PUMPKINS</td>\n",
       "      <td>NEW YORK</td>\n",
       "      <td>NaN</td>\n",
       "      <td>1 1/9 bushel crates</td>\n",
       "      <td>MINIATURE</td>\n",
       "      <td>ROUND TYPE</td>\n",
       "      <td>NaN</td>\n",
       "      <td>10/08/2016</td>\n",
       "      <td>18.0</td>\n",
       "      <td>18.0</td>\n",
       "      <td>...</td>\n",
       "      <td>NaN</td>\n",
       "      <td>NaN</td>\n",
       "      <td>NaN</td>\n",
       "      <td>NaN</td>\n",
       "      <td>NaN</td>\n",
       "      <td>NaN</td>\n",
       "      <td>NaN</td>\n",
       "      <td>NaN</td>\n",
       "      <td>N</td>\n",
       "      <td>NaN</td>\n",
       "    </tr>\n",
       "    <tr>\n",
       "      <th>109</th>\n",
       "      <td>PUMPKINS</td>\n",
       "      <td>NEW YORK</td>\n",
       "      <td>NaN</td>\n",
       "      <td>1 1/9 bushel crates</td>\n",
       "      <td>MINIATURE</td>\n",
       "      <td>ROUND TYPE</td>\n",
       "      <td>NaN</td>\n",
       "      <td>10/08/2016</td>\n",
       "      <td>18.0</td>\n",
       "      <td>18.0</td>\n",
       "      <td>...</td>\n",
       "      <td>NaN</td>\n",
       "      <td>NaN</td>\n",
       "      <td>NaN</td>\n",
       "      <td>NaN</td>\n",
       "      <td>NaN</td>\n",
       "      <td>NaN</td>\n",
       "      <td>NaN</td>\n",
       "      <td>NaN</td>\n",
       "      <td>N</td>\n",
       "      <td>NaN</td>\n",
       "    </tr>\n",
       "    <tr>\n",
       "      <th>110</th>\n",
       "      <td>PUMPKINS</td>\n",
       "      <td>NEW YORK</td>\n",
       "      <td>NaN</td>\n",
       "      <td>1 1/9 bushel crates</td>\n",
       "      <td>MINIATURE</td>\n",
       "      <td>ROUND TYPE</td>\n",
       "      <td>NaN</td>\n",
       "      <td>10/15/2016</td>\n",
       "      <td>18.0</td>\n",
       "      <td>18.0</td>\n",
       "      <td>...</td>\n",
       "      <td>NaN</td>\n",
       "      <td>NaN</td>\n",
       "      <td>NaN</td>\n",
       "      <td>NaN</td>\n",
       "      <td>NaN</td>\n",
       "      <td>NaN</td>\n",
       "      <td>NaN</td>\n",
       "      <td>NaN</td>\n",
       "      <td>N</td>\n",
       "      <td>NaN</td>\n",
       "    </tr>\n",
       "    <tr>\n",
       "      <th>111</th>\n",
       "      <td>PUMPKINS</td>\n",
       "      <td>NEW YORK</td>\n",
       "      <td>NaN</td>\n",
       "      <td>1 1/9 bushel crates</td>\n",
       "      <td>MINIATURE</td>\n",
       "      <td>ROUND TYPE</td>\n",
       "      <td>NaN</td>\n",
       "      <td>10/15/2016</td>\n",
       "      <td>18.0</td>\n",
       "      <td>18.0</td>\n",
       "      <td>...</td>\n",
       "      <td>NaN</td>\n",
       "      <td>NaN</td>\n",
       "      <td>NaN</td>\n",
       "      <td>NaN</td>\n",
       "      <td>NaN</td>\n",
       "      <td>NaN</td>\n",
       "      <td>NaN</td>\n",
       "      <td>NaN</td>\n",
       "      <td>N</td>\n",
       "      <td>NaN</td>\n",
       "    </tr>\n",
       "  </tbody>\n",
       "</table>\n",
       "<p>5 rows × 25 columns</p>\n",
       "</div>"
      ],
      "text/plain": [
       "    Commodity Name City Name  Type              Package    Variety  \\\n",
       "107       PUMPKINS  NEW YORK   NaN       bushel cartons  MINIATURE   \n",
       "108       PUMPKINS  NEW YORK   NaN  1 1/9 bushel crates  MINIATURE   \n",
       "109       PUMPKINS  NEW YORK   NaN  1 1/9 bushel crates  MINIATURE   \n",
       "110       PUMPKINS  NEW YORK   NaN  1 1/9 bushel crates  MINIATURE   \n",
       "111       PUMPKINS  NEW YORK   NaN  1 1/9 bushel crates  MINIATURE   \n",
       "\n",
       "    Sub Variety  Grade        Date  Low Price  High Price  ...  Color  \\\n",
       "107         NaN    NaN  09/09/2017       32.0        32.0  ...    NaN   \n",
       "108  ROUND TYPE    NaN  10/08/2016       18.0        18.0  ...    NaN   \n",
       "109  ROUND TYPE    NaN  10/08/2016       18.0        18.0  ...    NaN   \n",
       "110  ROUND TYPE    NaN  10/15/2016       18.0        18.0  ...    NaN   \n",
       "111  ROUND TYPE    NaN  10/15/2016       18.0        18.0  ...    NaN   \n",
       "\n",
       "     Environment Unit of Sale Quality Condition Appearance  Storage Crop  \\\n",
       "107          NaN          NaN     NaN       NaN        NaN      NaN  NaN   \n",
       "108          NaN          NaN     NaN       NaN        NaN      NaN  NaN   \n",
       "109          NaN          NaN     NaN       NaN        NaN      NaN  NaN   \n",
       "110          NaN          NaN     NaN       NaN        NaN      NaN  NaN   \n",
       "111          NaN          NaN     NaN       NaN        NaN      NaN  NaN   \n",
       "\n",
       "     Repack  Trans Mode  \n",
       "107       N         NaN  \n",
       "108       N         NaN  \n",
       "109       N         NaN  \n",
       "110       N         NaN  \n",
       "111       N         NaN  \n",
       "\n",
       "[5 rows x 25 columns]"
      ]
     },
     "execution_count": 11,
     "metadata": {},
     "output_type": "execute_result"
    }
   ],
   "source": [
    "joint.tail()"
   ]
  },
  {
   "cell_type": "code",
   "execution_count": 25,
   "metadata": {},
   "outputs": [
    {
     "data": {
      "text/plain": [
       "(275.0, 375.0)"
      ]
     },
     "execution_count": 25,
     "metadata": {},
     "output_type": "execute_result"
    }
   ],
   "source": [
    "'''\n",
    "# simple normalization\n",
    "## --- Seems to do nothing. Will normalize after data separation\n",
    "max_lowPrice = joint['Low Price'].max()\n",
    "max_highPrice = joint['High Price'].max()\n",
    "max_lowPrice, max_highPrice\n",
    "joint['High Price'] = joint['High Price']  / max_Price \n",
    "joint['Low Price'] = joint['Low Price']  / max_lowPrice \n",
    "'''\n"
   ]
  },
  {
   "cell_type": "code",
   "execution_count": 12,
   "metadata": {},
   "outputs": [
    {
     "data": {
      "text/plain": [
       "0      lge\n",
       "1      med\n",
       "2      lge\n",
       "3      med\n",
       "4      lge\n",
       "      ... \n",
       "107    sml\n",
       "108    med\n",
       "109    sml\n",
       "110    med\n",
       "111    sml\n",
       "Name: Item Size, Length: 174, dtype: object"
      ]
     },
     "execution_count": 12,
     "metadata": {},
     "output_type": "execute_result"
    }
   ],
   "source": [
    "# Converting categorical variables to int. \n",
    "joint['Item Size']"
   ]
  },
  {
   "cell_type": "code",
   "execution_count": 13,
   "metadata": {},
   "outputs": [],
   "source": [
    "joint['Item Size'] = joint['Item Size'].astype('category')\n",
    "joint['Item Size'] = joint['Item Size'].cat.codes"
   ]
  },
  {
   "cell_type": "markdown",
   "metadata": {},
   "source": [
    "### Distribution w.out normalization"
   ]
  },
  {
   "cell_type": "code",
   "execution_count": 14,
   "metadata": {},
   "outputs": [
    {
     "data": {
      "image/png": "[encoded data removed]",
      "text/plain": [
       "<Figure size 432x288 with 1 Axes>"
      ]
     },
     "metadata": {
      "needs_background": "light"
     },
     "output_type": "display_data"
    }
   ],
   "source": [
    "sns.distplot(joint['Low Price']).set_title(\"Low Price Dist\")\n",
    "plt.show()"
   ]
  },
  {
   "cell_type": "code",
   "execution_count": 15,
   "metadata": {},
   "outputs": [
    {
     "data": {
      "image/png": "[encoded data removed]",
      "text/plain": [
       "<Figure size 432x288 with 1 Axes>"
      ]
     },
     "metadata": {
      "needs_background": "light"
     },
     "output_type": "display_data"
    }
   ],
   "source": [
    "sns.distplot(joint['High Price']).set_title(\"High Price Dist\")\n",
    "plt.show()"
   ]
  },
  {
   "cell_type": "code",
   "execution_count": 17,
   "metadata": {},
   "outputs": [
    {
     "data": {
      "text/html": [
       "<div>\n",
       "<style scoped>\n",
       "    .dataframe tbody tr th:only-of-type {\n",
       "        vertical-align: middle;\n",
       "    }\n",
       "\n",
       "    .dataframe tbody tr th {\n",
       "        vertical-align: top;\n",
       "    }\n",
       "\n",
       "    .dataframe thead th {\n",
       "        text-align: right;\n",
       "    }\n",
       "</style>\n",
       "<table border=\"1\" class=\"dataframe\">\n",
       "  <thead>\n",
       "    <tr style=\"text-align: right;\">\n",
       "      <th></th>\n",
       "      <th>Low Price</th>\n",
       "      <th>High Price</th>\n",
       "      <th>Item Size</th>\n",
       "    </tr>\n",
       "  </thead>\n",
       "  <tbody>\n",
       "    <tr>\n",
       "      <th>0</th>\n",
       "      <td>120.0</td>\n",
       "      <td>130.0</td>\n",
       "      <td>1</td>\n",
       "    </tr>\n",
       "    <tr>\n",
       "      <th>1</th>\n",
       "      <td>120.0</td>\n",
       "      <td>130.0</td>\n",
       "      <td>2</td>\n",
       "    </tr>\n",
       "    <tr>\n",
       "      <th>2</th>\n",
       "      <td>120.0</td>\n",
       "      <td>130.0</td>\n",
       "      <td>1</td>\n",
       "    </tr>\n",
       "    <tr>\n",
       "      <th>3</th>\n",
       "      <td>120.0</td>\n",
       "      <td>130.0</td>\n",
       "      <td>2</td>\n",
       "    </tr>\n",
       "    <tr>\n",
       "      <th>4</th>\n",
       "      <td>120.0</td>\n",
       "      <td>130.0</td>\n",
       "      <td>1</td>\n",
       "    </tr>\n",
       "    <tr>\n",
       "      <th>...</th>\n",
       "      <td>...</td>\n",
       "      <td>...</td>\n",
       "      <td>...</td>\n",
       "    </tr>\n",
       "    <tr>\n",
       "      <th>107</th>\n",
       "      <td>32.0</td>\n",
       "      <td>32.0</td>\n",
       "      <td>4</td>\n",
       "    </tr>\n",
       "    <tr>\n",
       "      <th>108</th>\n",
       "      <td>18.0</td>\n",
       "      <td>18.0</td>\n",
       "      <td>2</td>\n",
       "    </tr>\n",
       "    <tr>\n",
       "      <th>109</th>\n",
       "      <td>18.0</td>\n",
       "      <td>18.0</td>\n",
       "      <td>4</td>\n",
       "    </tr>\n",
       "    <tr>\n",
       "      <th>110</th>\n",
       "      <td>18.0</td>\n",
       "      <td>18.0</td>\n",
       "      <td>2</td>\n",
       "    </tr>\n",
       "    <tr>\n",
       "      <th>111</th>\n",
       "      <td>18.0</td>\n",
       "      <td>18.0</td>\n",
       "      <td>4</td>\n",
       "    </tr>\n",
       "  </tbody>\n",
       "</table>\n",
       "<p>174 rows × 3 columns</p>\n",
       "</div>"
      ],
      "text/plain": [
       "     Low Price  High Price  Item Size\n",
       "0        120.0       130.0          1\n",
       "1        120.0       130.0          2\n",
       "2        120.0       130.0          1\n",
       "3        120.0       130.0          2\n",
       "4        120.0       130.0          1\n",
       "..         ...         ...        ...\n",
       "107       32.0        32.0          4\n",
       "108       18.0        18.0          2\n",
       "109       18.0        18.0          4\n",
       "110       18.0        18.0          2\n",
       "111       18.0        18.0          4\n",
       "\n",
       "[174 rows x 3 columns]"
      ]
     },
     "execution_count": 17,
     "metadata": {},
     "output_type": "execute_result"
    }
   ],
   "source": [
    "workData = joint[['Low Price','High Price','Item Size']].copy()\n",
    "workData"
   ]
  },
  {
   "cell_type": "code",
   "execution_count": 18,
   "metadata": {},
   "outputs": [
    {
     "data": {
      "text/html": [
       "<div>\n",
       "<style scoped>\n",
       "    .dataframe tbody tr th:only-of-type {\n",
       "        vertical-align: middle;\n",
       "    }\n",
       "\n",
       "    .dataframe tbody tr th {\n",
       "        vertical-align: top;\n",
       "    }\n",
       "\n",
       "    .dataframe thead th {\n",
       "        text-align: right;\n",
       "    }\n",
       "</style>\n",
       "<table border=\"1\" class=\"dataframe\">\n",
       "  <thead>\n",
       "    <tr style=\"text-align: right;\">\n",
       "      <th></th>\n",
       "      <th>0</th>\n",
       "      <th>1</th>\n",
       "      <th>2</th>\n",
       "    </tr>\n",
       "  </thead>\n",
       "  <tbody>\n",
       "    <tr>\n",
       "      <th>0</th>\n",
       "      <td>0.435871</td>\n",
       "      <td>0.346248</td>\n",
       "      <td>0.333333</td>\n",
       "    </tr>\n",
       "    <tr>\n",
       "      <th>1</th>\n",
       "      <td>0.435871</td>\n",
       "      <td>0.346248</td>\n",
       "      <td>0.500000</td>\n",
       "    </tr>\n",
       "    <tr>\n",
       "      <th>2</th>\n",
       "      <td>0.435871</td>\n",
       "      <td>0.346248</td>\n",
       "      <td>0.333333</td>\n",
       "    </tr>\n",
       "    <tr>\n",
       "      <th>3</th>\n",
       "      <td>0.435871</td>\n",
       "      <td>0.346248</td>\n",
       "      <td>0.500000</td>\n",
       "    </tr>\n",
       "    <tr>\n",
       "      <th>4</th>\n",
       "      <td>0.435871</td>\n",
       "      <td>0.346248</td>\n",
       "      <td>0.333333</td>\n",
       "    </tr>\n",
       "  </tbody>\n",
       "</table>\n",
       "</div>"
      ],
      "text/plain": [
       "          0         1         2\n",
       "0  0.435871  0.346248  0.333333\n",
       "1  0.435871  0.346248  0.500000\n",
       "2  0.435871  0.346248  0.333333\n",
       "3  0.435871  0.346248  0.500000\n",
       "4  0.435871  0.346248  0.333333"
      ]
     },
     "execution_count": 18,
     "metadata": {},
     "output_type": "execute_result"
    }
   ],
   "source": [
    "### Normalizing data to lower the weight of outliers\n",
    "# normalizing data method 2\n",
    "mm_scaler = preprocessing.MinMaxScaler()\n",
    "d = mm_scaler.fit_transform(workData)\n",
    "df = pd.DataFrame(d)\n",
    "df.head()"
   ]
  },
  {
   "cell_type": "code",
   "execution_count": 19,
   "metadata": {},
   "outputs": [],
   "source": [
    "df.columns = ['low_price', 'high_price','item_size']"
   ]
  },
  {
   "cell_type": "code",
   "execution_count": 21,
   "metadata": {},
   "outputs": [
    {
     "data": {
      "text/html": [
       "<div>\n",
       "<style scoped>\n",
       "    .dataframe tbody tr th:only-of-type {\n",
       "        vertical-align: middle;\n",
       "    }\n",
       "\n",
       "    .dataframe tbody tr th {\n",
       "        vertical-align: top;\n",
       "    }\n",
       "\n",
       "    .dataframe thead th {\n",
       "        text-align: right;\n",
       "    }\n",
       "</style>\n",
       "<table border=\"1\" class=\"dataframe\">\n",
       "  <thead>\n",
       "    <tr style=\"text-align: right;\">\n",
       "      <th></th>\n",
       "      <th>low_price</th>\n",
       "      <th>high_price</th>\n",
       "      <th>item_size</th>\n",
       "    </tr>\n",
       "  </thead>\n",
       "  <tbody>\n",
       "    <tr>\n",
       "      <th>0</th>\n",
       "      <td>0.435871</td>\n",
       "      <td>0.346248</td>\n",
       "      <td>0.333333</td>\n",
       "    </tr>\n",
       "    <tr>\n",
       "      <th>1</th>\n",
       "      <td>0.435871</td>\n",
       "      <td>0.346248</td>\n",
       "      <td>0.500000</td>\n",
       "    </tr>\n",
       "    <tr>\n",
       "      <th>2</th>\n",
       "      <td>0.435871</td>\n",
       "      <td>0.346248</td>\n",
       "      <td>0.333333</td>\n",
       "    </tr>\n",
       "    <tr>\n",
       "      <th>3</th>\n",
       "      <td>0.435871</td>\n",
       "      <td>0.346248</td>\n",
       "      <td>0.500000</td>\n",
       "    </tr>\n",
       "    <tr>\n",
       "      <th>4</th>\n",
       "      <td>0.435871</td>\n",
       "      <td>0.346248</td>\n",
       "      <td>0.333333</td>\n",
       "    </tr>\n",
       "  </tbody>\n",
       "</table>\n",
       "</div>"
      ],
      "text/plain": [
       "   low_price  high_price  item_size\n",
       "0   0.435871    0.346248   0.333333\n",
       "1   0.435871    0.346248   0.500000\n",
       "2   0.435871    0.346248   0.333333\n",
       "3   0.435871    0.346248   0.500000\n",
       "4   0.435871    0.346248   0.333333"
      ]
     },
     "execution_count": 21,
     "metadata": {},
     "output_type": "execute_result"
    }
   ],
   "source": [
    "df.head()"
   ]
  },
  {
   "cell_type": "markdown",
   "metadata": {},
   "source": [
    "## Data Distribution After normalization"
   ]
  },
  {
   "cell_type": "code",
   "execution_count": 22,
   "metadata": {},
   "outputs": [
    {
     "data": {
      "image/png": "[encoded data removed]",
      "text/plain": [
       "<Figure size 432x288 with 1 Axes>"
      ]
     },
     "metadata": {
      "needs_background": "light"
     },
     "output_type": "display_data"
    }
   ],
   "source": [
    "sns.distplot(df['low_price']).set_title(\"Low Price Dist\")\n",
    "plt.show()"
   ]
  },
  {
   "cell_type": "code",
   "execution_count": 24,
   "metadata": {},
   "outputs": [
    {
     "data": {
      "image/png": "[encoded data removed]",
      "text/plain": [
       "<Figure size 432x288 with 1 Axes>"
      ]
     },
     "metadata": {
      "needs_background": "light"
     },
     "output_type": "display_data"
    }
   ],
   "source": [
    "sns.distplot(df['high_price']).set_title(\"High Price Dist\")\n",
    "plt.show()"
   ]
  },
  {
   "cell_type": "markdown",
   "metadata": {},
   "source": [
    "## Scatter plot to check for any relationship at first sight"
   ]
  },
  {
   "cell_type": "code",
   "execution_count": 28,
   "metadata": {},
   "outputs": [
    {
     "data": {
      "image/png": "[encoded data removed]",
      "text/plain": [
       "<Figure size 432x288 with 1 Axes>"
      ]
     },
     "metadata": {
      "needs_background": "light"
     },
     "output_type": "display_data"
    }
   ],
   "source": [
    "plt.scatter( df['item_size'], df['low_price'])\n",
    "plt.title(\"Item Size vs Low Price\")\n",
    "plt.show()"
   ]
  },
  {
   "cell_type": "code",
   "execution_count": 30,
   "metadata": {},
   "outputs": [
    {
     "data": {
      "image/png": "[encoded data removed]",
      "text/plain": [
       "<Figure size 432x288 with 1 Axes>"
      ]
     },
     "metadata": {
      "needs_background": "light"
     },
     "output_type": "display_data"
    }
   ],
   "source": [
    "plt.scatter( df['item_size'], df['high_price'])\n",
    "plt.title(\"Item Size vs high Price\")\n",
    "plt.show()"
   ]
  },
  {
   "cell_type": "markdown",
   "metadata": {},
   "source": [
    "### Model implementation and training with cross validation"
   ]
  },
  {
   "cell_type": "code",
   "execution_count": 121,
   "metadata": {},
   "outputs": [],
   "source": [
    "#X = df['item_size'].to_numpy().reshape(len(df),1)\n",
    "#y = df['high_price'].to_numpy().reshape(len(df),1)\n",
    "# ------------------------------------------------\n",
    "\n",
    "# x matrix (independent variables)\n",
    "X = df.iloc[:,2:]\n",
    "ones = np.ones([X.shape[0],1])\n",
    "X_ones = np.concatenate((ones,X),axis=1)\n",
    "\n",
    "# y matrix (dependent variable)\n",
    "y = df.iloc[:,0:1].values #converting to narray chance_admit \n",
    "# ------------------------------------------------------------------------"
   ]
  },
  {
   "cell_type": "code",
   "execution_count": 122,
   "metadata": {
    "collapsed": true,
    "jupyter": {
     "outputs_hidden": true
    }
   },
   "outputs": [
    {
     "data": {
      "text/plain": [
       "array([[1.        , 0.33333333],\n",
       "       [1.        , 0.5       ],\n",
       "       [1.        , 0.33333333],\n",
       "       [1.        , 0.5       ],\n",
       "       [1.        , 0.33333333],\n",
       "       [1.        , 0.5       ],\n",
       "       [1.        , 0.33333333],\n",
       "       [1.        , 0.5       ],\n",
       "       [1.        , 0.33333333],\n",
       "       [1.        , 0.5       ],\n",
       "       [1.        , 0.33333333],\n",
       "       [1.        , 0.5       ],\n",
       "       [1.        , 0.33333333],\n",
       "       [1.        , 0.5       ],\n",
       "       [1.        , 0.33333333],\n",
       "       [1.        , 0.33333333],\n",
       "       [1.        , 0.33333333],\n",
       "       [1.        , 0.66666667],\n",
       "       [1.        , 0.5       ],\n",
       "       [1.        , 0.83333333],\n",
       "       [1.        , 0.5       ],\n",
       "       [1.        , 0.5       ],\n",
       "       [1.        , 0.5       ],\n",
       "       [1.        , 0.5       ],\n",
       "       [1.        , 0.5       ],\n",
       "       [1.        , 0.5       ],\n",
       "       [1.        , 0.66666667],\n",
       "       [1.        , 0.66666667],\n",
       "       [1.        , 0.66666667],\n",
       "       [1.        , 0.66666667],\n",
       "       [1.        , 0.66666667],\n",
       "       [1.        , 0.66666667],\n",
       "       [1.        , 0.66666667],\n",
       "       [1.        , 0.66666667],\n",
       "       [1.        , 0.5       ],\n",
       "       [1.        , 0.        ],\n",
       "       [1.        , 0.        ],\n",
       "       [1.        , 0.        ],\n",
       "       [1.        , 0.        ],\n",
       "       [1.        , 0.        ],\n",
       "       [1.        , 0.        ],\n",
       "       [1.        , 0.5       ],\n",
       "       [1.        , 0.        ],\n",
       "       [1.        , 0.        ],\n",
       "       [1.        , 0.        ],\n",
       "       [1.        , 0.        ],\n",
       "       [1.        , 0.33333333],\n",
       "       [1.        , 0.83333333],\n",
       "       [1.        , 0.33333333],\n",
       "       [1.        , 0.83333333],\n",
       "       [1.        , 0.33333333],\n",
       "       [1.        , 0.83333333],\n",
       "       [1.        , 0.33333333],\n",
       "       [1.        , 0.83333333],\n",
       "       [1.        , 0.33333333],\n",
       "       [1.        , 0.83333333],\n",
       "       [1.        , 0.        ],\n",
       "       [1.        , 0.        ],\n",
       "       [1.        , 0.        ],\n",
       "       [1.        , 0.        ],\n",
       "       [1.        , 0.        ],\n",
       "       [1.        , 0.        ],\n",
       "       [1.        , 1.        ],\n",
       "       [1.        , 0.33333333],\n",
       "       [1.        , 1.        ],\n",
       "       [1.        , 0.33333333],\n",
       "       [1.        , 0.66666667],\n",
       "       [1.        , 1.        ],\n",
       "       [1.        , 0.33333333],\n",
       "       [1.        , 0.5       ],\n",
       "       [1.        , 1.        ],\n",
       "       [1.        , 0.33333333],\n",
       "       [1.        , 1.        ],\n",
       "       [1.        , 0.66666667],\n",
       "       [1.        , 1.        ],\n",
       "       [1.        , 0.33333333],\n",
       "       [1.        , 1.        ],\n",
       "       [1.        , 0.33333333],\n",
       "       [1.        , 1.        ],\n",
       "       [1.        , 1.        ],\n",
       "       [1.        , 1.        ],\n",
       "       [1.        , 1.        ],\n",
       "       [1.        , 1.        ],\n",
       "       [1.        , 1.        ],\n",
       "       [1.        , 1.        ],\n",
       "       [1.        , 1.        ],\n",
       "       [1.        , 1.        ],\n",
       "       [1.        , 1.        ],\n",
       "       [1.        , 1.        ],\n",
       "       [1.        , 0.33333333],\n",
       "       [1.        , 0.33333333],\n",
       "       [1.        , 1.        ],\n",
       "       [1.        , 0.33333333],\n",
       "       [1.        , 1.        ],\n",
       "       [1.        , 0.33333333],\n",
       "       [1.        , 1.        ],\n",
       "       [1.        , 0.33333333],\n",
       "       [1.        , 1.        ],\n",
       "       [1.        , 0.33333333],\n",
       "       [1.        , 1.        ],\n",
       "       [1.        , 0.33333333],\n",
       "       [1.        , 0.5       ],\n",
       "       [1.        , 0.5       ],\n",
       "       [1.        , 0.5       ],\n",
       "       [1.        , 0.5       ],\n",
       "       [1.        , 0.5       ],\n",
       "       [1.        , 0.5       ],\n",
       "       [1.        , 0.5       ],\n",
       "       [1.        , 0.33333333],\n",
       "       [1.        , 0.33333333],\n",
       "       [1.        , 0.66666667],\n",
       "       [1.        , 0.5       ],\n",
       "       [1.        , 0.5       ],\n",
       "       [1.        , 0.66666667],\n",
       "       [1.        , 0.66666667],\n",
       "       [1.        , 0.66666667],\n",
       "       [1.        , 0.66666667],\n",
       "       [1.        , 0.66666667],\n",
       "       [1.        , 0.66666667],\n",
       "       [1.        , 0.        ],\n",
       "       [1.        , 0.        ],\n",
       "       [1.        , 0.        ],\n",
       "       [1.        , 0.33333333],\n",
       "       [1.        , 0.33333333],\n",
       "       [1.        , 0.33333333],\n",
       "       [1.        , 0.33333333],\n",
       "       [1.        , 0.33333333],\n",
       "       [1.        , 0.33333333],\n",
       "       [1.        , 0.33333333],\n",
       "       [1.        , 0.33333333],\n",
       "       [1.        , 0.33333333],\n",
       "       [1.        , 0.5       ],\n",
       "       [1.        , 0.5       ],\n",
       "       [1.        , 0.83333333],\n",
       "       [1.        , 0.5       ],\n",
       "       [1.        , 0.5       ],\n",
       "       [1.        , 0.33333333],\n",
       "       [1.        , 0.33333333],\n",
       "       [1.        , 0.33333333],\n",
       "       [1.        , 0.        ],\n",
       "       [1.        , 0.        ],\n",
       "       [1.        , 0.        ],\n",
       "       [1.        , 0.        ],\n",
       "       [1.        , 1.        ],\n",
       "       [1.        , 0.16666667],\n",
       "       [1.        , 0.16666667],\n",
       "       [1.        , 0.        ],\n",
       "       [1.        , 0.83333333],\n",
       "       [1.        , 0.83333333],\n",
       "       [1.        , 0.83333333],\n",
       "       [1.        , 0.83333333],\n",
       "       [1.        , 0.83333333],\n",
       "       [1.        , 0.83333333],\n",
       "       [1.        , 0.83333333],\n",
       "       [1.        , 0.83333333],\n",
       "       [1.        , 0.83333333],\n",
       "       [1.        , 0.83333333],\n",
       "       [1.        , 0.83333333],\n",
       "       [1.        , 0.83333333],\n",
       "       [1.        , 0.83333333],\n",
       "       [1.        , 0.83333333],\n",
       "       [1.        , 0.5       ],\n",
       "       [1.        , 0.83333333],\n",
       "       [1.        , 0.83333333],\n",
       "       [1.        , 0.83333333],\n",
       "       [1.        , 0.83333333],\n",
       "       [1.        , 0.83333333],\n",
       "       [1.        , 0.83333333],\n",
       "       [1.        , 0.83333333],\n",
       "       [1.        , 0.83333333],\n",
       "       [1.        , 0.5       ],\n",
       "       [1.        , 0.83333333],\n",
       "       [1.        , 0.5       ],\n",
       "       [1.        , 0.83333333]])"
      ]
     },
     "execution_count": 122,
     "metadata": {},
     "output_type": "execute_result"
    }
   ],
   "source": [
    "X_ones"
   ]
  },
  {
   "cell_type": "code",
   "execution_count": 123,
   "metadata": {
    "collapsed": true,
    "jupyter": {
     "outputs_hidden": true
    }
   },
   "outputs": [
    {
     "data": {
      "text/plain": [
       "array([[0.436],\n",
       "       [0.436],\n",
       "       [0.436],\n",
       "       [0.436],\n",
       "       [0.436],\n",
       "       [0.436],\n",
       "       [0.436],\n",
       "       [0.436],\n",
       "       [0.436],\n",
       "       [0.436],\n",
       "       [0.308],\n",
       "       [0.308],\n",
       "       [0.29 ],\n",
       "       [0.29 ],\n",
       "       [0.436],\n",
       "       [0.436],\n",
       "       [0.436],\n",
       "       [0.581],\n",
       "       [0.854],\n",
       "       [1.   ],\n",
       "       [0.454],\n",
       "       [0.001],\n",
       "       [0.001],\n",
       "       [0.001],\n",
       "       [0.909],\n",
       "       [0.001],\n",
       "       [0.   ],\n",
       "       [0.   ],\n",
       "       [0.   ],\n",
       "       [0.   ],\n",
       "       [0.   ],\n",
       "       [0.   ],\n",
       "       [0.   ],\n",
       "       [0.   ],\n",
       "       [0.909],\n",
       "       [0.   ],\n",
       "       [0.   ],\n",
       "       [0.   ],\n",
       "       [0.   ],\n",
       "       [0.   ],\n",
       "       [0.   ],\n",
       "       [0.909],\n",
       "       [0.108],\n",
       "       [0.108],\n",
       "       [0.108],\n",
       "       [0.001],\n",
       "       [0.909],\n",
       "       [0.001],\n",
       "       [0.909],\n",
       "       [0.001],\n",
       "       [0.909],\n",
       "       [0.001],\n",
       "       [0.909],\n",
       "       [0.001],\n",
       "       [0.909],\n",
       "       [0.001],\n",
       "       [0.088],\n",
       "       [0.088],\n",
       "       [0.088],\n",
       "       [0.088],\n",
       "       [0.088],\n",
       "       [0.088],\n",
       "       [0.545],\n",
       "       [0.545],\n",
       "       [0.472],\n",
       "       [0.472],\n",
       "       [0.436],\n",
       "       [0.545],\n",
       "       [0.436],\n",
       "       [0.654],\n",
       "       [0.545],\n",
       "       [0.545],\n",
       "       [0.509],\n",
       "       [0.509],\n",
       "       [0.545],\n",
       "       [0.581],\n",
       "       [0.581],\n",
       "       [0.636],\n",
       "       [0.509],\n",
       "       [0.581],\n",
       "       [0.436],\n",
       "       [0.436],\n",
       "       [0.581],\n",
       "       [0.436],\n",
       "       [0.581],\n",
       "       [0.436],\n",
       "       [0.472],\n",
       "       [0.363],\n",
       "       [0.509],\n",
       "       [0.509],\n",
       "       [0.545],\n",
       "       [0.581],\n",
       "       [0.581],\n",
       "       [0.509],\n",
       "       [0.545],\n",
       "       [0.581],\n",
       "       [0.581],\n",
       "       [0.472],\n",
       "       [0.545],\n",
       "       [0.509],\n",
       "       [0.509],\n",
       "       [0.057],\n",
       "       [0.057],\n",
       "       [0.057],\n",
       "       [0.057],\n",
       "       [0.057],\n",
       "       [0.057],\n",
       "       [0.057],\n",
       "       [0.472],\n",
       "       [0.472],\n",
       "       [0.436],\n",
       "       [0.654],\n",
       "       [0.654],\n",
       "       [0.436],\n",
       "       [0.472],\n",
       "       [0.436],\n",
       "       [0.472],\n",
       "       [0.436],\n",
       "       [0.472],\n",
       "       [0.909],\n",
       "       [0.49 ],\n",
       "       [0.654],\n",
       "       [0.436],\n",
       "       [0.509],\n",
       "       [0.436],\n",
       "       [0.509],\n",
       "       [0.436],\n",
       "       [0.545],\n",
       "       [0.509],\n",
       "       [0.727],\n",
       "       [0.727],\n",
       "       [0.945],\n",
       "       [0.945],\n",
       "       [0.8  ],\n",
       "       [0.945],\n",
       "       [0.945],\n",
       "       [0.727],\n",
       "       [0.727],\n",
       "       [0.727],\n",
       "       [0.065],\n",
       "       [0.065],\n",
       "       [0.065],\n",
       "       [0.065],\n",
       "       [0.436],\n",
       "       [0.272],\n",
       "       [0.272],\n",
       "       [0.727],\n",
       "       [0.054],\n",
       "       [0.072],\n",
       "       [0.054],\n",
       "       [0.072],\n",
       "       [0.065],\n",
       "       [0.072],\n",
       "       [0.054],\n",
       "       [0.065],\n",
       "       [0.065],\n",
       "       [0.054],\n",
       "       [0.054],\n",
       "       [0.065],\n",
       "       [0.054],\n",
       "       [0.065],\n",
       "       [0.065],\n",
       "       [0.065],\n",
       "       [0.086],\n",
       "       [0.065],\n",
       "       [0.057],\n",
       "       [0.086],\n",
       "       [0.057],\n",
       "       [0.057],\n",
       "       [0.116],\n",
       "       [0.065],\n",
       "       [0.065],\n",
       "       [0.065],\n",
       "       [0.065]])"
      ]
     },
     "execution_count": 123,
     "metadata": {},
     "output_type": "execute_result"
    }
   ],
   "source": [
    "# y values and rounded since, they had to many decimals which could make processing a little slower. \n",
    "y = np.around(y,decimals=3)\n",
    "y"
   ]
  },
  {
   "cell_type": "markdown",
   "metadata": {},
   "source": [
    "#### Cross Validation - Testing"
   ]
  },
  {
   "cell_type": "code",
   "execution_count": 129,
   "metadata": {},
   "outputs": [],
   "source": [
    "# X_in: X values\n",
    "# y_in: y values\n",
    "# th = thetas array\n",
    "# i = iterations\n",
    "# a = alpha\n",
    "\n",
    "def call_grdDsc(x,y,thetas,a,it):\n",
    "    #running the gd and cost function\n",
    "    g,cost = grdDsc(x,y,thetas,a,it)\n",
    "    #print(\"Gradient Result : \", g)\n",
    "    #print(\"Costs result: \", cost)\n",
    "    initialCost = cost1(x,y,thetas)\n",
    "    #print(\"Initial Cost:\",initialCost)\n",
    "    change = (abs(cost[-1]-initialCost)/initialCost) * 100\n",
    "    \n",
    "    # plotting cost\n",
    "    fig, ax = plt.subplots()  \n",
    "    ax.plot(np.arange(it), cost, 'r')  \n",
    "    ax.set_xlabel('Iterations')  \n",
    "    ax.set_ylabel('Cost')  \n",
    "    ax.set_title('Error vs. Training iterations') \n",
    "    print(\"Initial Cost:\",initialCost,\"- Final Cost:\",cost[-1], \" - Improvement:\",change,\"%\")\n",
    "    return g\n"
   ]
  },
  {
   "cell_type": "markdown",
   "metadata": {},
   "source": [
    "### alpha = 0.001 Iterations = 1000"
   ]
  },
  {
   "cell_type": "code",
   "execution_count": 149,
   "metadata": {},
   "outputs": [],
   "source": [
    "## Hyper params:\n",
    "\n",
    "th_t = np.zeros([1,2])\n",
    "i_t = 1000\n",
    "a_t = 0.001 "
   ]
  },
  {
   "cell_type": "code",
   "execution_count": 150,
   "metadata": {},
   "outputs": [
    {
     "name": "stdout",
     "output_type": "stream",
     "text": [
      "Initial Cost: 0.10438106609195404 - Final Cost: 0.04754259580398639  - Improvement: 54.45285473315251 %\n"
     ]
    },
    {
     "data": {
      "text/plain": [
       "array([[0.19993599, 0.09999651]])"
      ]
     },
     "execution_count": 150,
     "metadata": {},
     "output_type": "execute_result"
    },
    {
     "data": {
      "image/png": "[encoded data removed]",
      "text/plain": [
       "<Figure size 432x288 with 1 Axes>"
      ]
     },
     "metadata": {
      "needs_background": "light"
     },
     "output_type": "display_data"
    }
   ],
   "source": [
    "try_t = call_grdDsc(X_ones, y, th_t, a_t, i_t)\n",
    "try_t"
   ]
  },
  {
   "cell_type": "code",
   "execution_count": 151,
   "metadata": {},
   "outputs": [
    {
     "data": {
      "image/png": "[encoded data removed]",
      "text/plain": [
       "<Figure size 432x288 with 1 Axes>"
      ]
     },
     "metadata": {
      "needs_background": "light"
     },
     "output_type": "display_data"
    }
   ],
   "source": [
    "## Degree = 1\n",
    "def verify(results, df_in):\n",
    "    plt.scatter(df_in['item_size'],df_in['high_price'])\n",
    "    axes = plt.gca() # reference to axes\n",
    "    x_values = np.array(axes.get_xlim())  \n",
    "    y_values = results[0][0] + results[0][1]* x_values # y = b+mx (line eq)\n",
    "    plt.plot(x_values, y_values, '--')\n",
    "    \n",
    "verify(try_t, df)"
   ]
  },
  {
   "cell_type": "markdown",
   "metadata": {},
   "source": [
    "### alpha = 0.0001 Iterations = 1000"
   ]
  },
  {
   "cell_type": "code",
   "execution_count": 156,
   "metadata": {},
   "outputs": [],
   "source": [
    "## Hyper params:\n",
    "\n",
    "th_t1 = np.zeros([1,2])\n",
    "i_t1 = 1000\n",
    "a_t1 = 0.0001 "
   ]
  },
  {
   "cell_type": "code",
   "execution_count": 157,
   "metadata": {},
   "outputs": [
    {
     "name": "stdout",
     "output_type": "stream",
     "text": [
      "Initial Cost: 0.10438106609195404 - Final Cost: 0.09030063098732533  - Improvement: 13.489453242626029 %\n"
     ]
    },
    {
     "data": {
      "text/plain": [
       "array([[0.03315066, 0.0175263 ]])"
      ]
     },
     "execution_count": 157,
     "metadata": {},
     "output_type": "execute_result"
    },
    {
     "data": {
      "image/png": "[encoded data removed]",
      "text/plain": [
       "<Figure size 432x288 with 1 Axes>"
      ]
     },
     "metadata": {
      "needs_background": "light"
     },
     "output_type": "display_data"
    }
   ],
   "source": [
    "try_t = call_grdDsc(X_ones, y, th_t1, a_t1, i_t1)\n",
    "try_t"
   ]
  },
  {
   "cell_type": "code",
   "execution_count": 158,
   "metadata": {},
   "outputs": [
    {
     "data": {
      "image/png": "[encoded data removed]",
      "text/plain": [
       "<Figure size 432x288 with 1 Axes>"
      ]
     },
     "metadata": {
      "needs_background": "light"
     },
     "output_type": "display_data"
    }
   ],
   "source": [
    "## Degree = 1\n",
    "def verify(results, df_in):\n",
    "    plt.scatter(df_in['item_size'],df_in['high_price'])\n",
    "    axes = plt.gca() # reference to axes\n",
    "    x_values = np.array(axes.get_xlim())  \n",
    "    y_values = results[0][0] + results[0][1]* x_values # y = b+mx (line eq)\n",
    "    plt.plot(x_values, y_values, '--')\n",
    "    \n",
    "verify(try_t, df)"
   ]
  },
  {
   "cell_type": "markdown",
   "metadata": {},
   "source": [
    "### alpha = 0.01 Iterations = 1000"
   ]
  },
  {
   "cell_type": "code",
   "execution_count": 159,
   "metadata": {},
   "outputs": [],
   "source": [
    "## Hyper params:\n",
    "\n",
    "th_t1 = np.zeros([1,2])\n",
    "i_t1 = 1000\n",
    "a_t1 = 0.01 "
   ]
  },
  {
   "cell_type": "code",
   "execution_count": 160,
   "metadata": {},
   "outputs": [
    {
     "name": "stdout",
     "output_type": "stream",
     "text": [
      "Initial Cost: 0.10438106609195404 - Final Cost: 0.04228174446269035  - Improvement: 59.492898429067175 %\n"
     ]
    },
    {
     "data": {
      "text/plain": [
       "array([[0.31290443, 0.06962834]])"
      ]
     },
     "execution_count": 160,
     "metadata": {},
     "output_type": "execute_result"
    },
    {
     "data": {
      "image/png": "[encoded data removed]",
      "text/plain": [
       "<Figure size 432x288 with 1 Axes>"
      ]
     },
     "metadata": {
      "needs_background": "light"
     },
     "output_type": "display_data"
    }
   ],
   "source": [
    "try_t = call_grdDsc(X_ones, y, th_t1, a_t1, i_t1)\n",
    "try_t"
   ]
  },
  {
   "cell_type": "code",
   "execution_count": 161,
   "metadata": {},
   "outputs": [
    {
     "data": {
      "image/png": "[encoded data removed]",
      "text/plain": [
       "<Figure size 432x288 with 1 Axes>"
      ]
     },
     "metadata": {
      "needs_background": "light"
     },
     "output_type": "display_data"
    }
   ],
   "source": [
    "## Degree = 1\n",
    "def verify(results, df_in):\n",
    "    plt.scatter(df_in['item_size'],df_in['high_price'])\n",
    "    axes = plt.gca() # reference to axes\n",
    "    x_values = np.array(axes.get_xlim())  \n",
    "    y_values = results[0][0] + results[0][1]* x_values # y = b+mx (line eq)\n",
    "    plt.plot(x_values, y_values, '--')\n",
    "    \n",
    "verify(try_t, df)"
   ]
  },
  {
   "cell_type": "code",
   "execution_count": null,
   "metadata": {},
   "outputs": [],
   "source": [
    "### Degree 2"
   ]
  },
  {
   "cell_type": "code",
   "execution_count": 162,
   "metadata": {},
   "outputs": [],
   "source": [
    "X_2 = df.iloc[:,2:]\n",
    "ones = np.ones([X.shape[0],1])\n",
    "X_2ones = np.concatenate((ones,X),axis=1)\n",
    "X_2ones = np.concatenate((ones,X),axis=1)"
   ]
  },
  {
   "cell_type": "code",
   "execution_count": 163,
   "metadata": {},
   "outputs": [
    {
     "name": "stdout",
     "output_type": "stream",
     "text": [
      "Initial Cost: 0.10438106609195404 - Final Cost: 0.04228174446269035  - Improvement: 59.492898429067175 %\n"
     ]
    },
    {
     "data": {
      "text/plain": [
       "array([[0.31290443, 0.06962834]])"
      ]
     },
     "execution_count": 163,
     "metadata": {},
     "output_type": "execute_result"
    },
    {
     "data": {
      "image/png": "[encoded data removed]",
      "text/plain": [
       "<Figure size 432x288 with 1 Axes>"
      ]
     },
     "metadata": {
      "needs_background": "light"
     },
     "output_type": "display_data"
    }
   ],
   "source": [
    "## Hyper params:\n",
    "\n",
    "th_t2 = np.zeros([1,2])\n",
    "i_t2 = 1000\n",
    "a_t2 = 0.01\n",
    "\n",
    "try_deg2 = call_grdDsc(X_2ones, y, th_t2, a_t2, i_t2)\n",
    "try_deg2"
   ]
  },
  {
   "cell_type": "code",
   "execution_count": 169,
   "metadata": {},
   "outputs": [
    {
     "name": "stderr",
     "output_type": "stream",
     "text": [
      "/home/jmadrazo7/Dev/ufm/machineLearning/sandbox/env/lib/python3.5/site-packages/ipykernel_launcher.py:22: RankWarning: Polyfit may be poorly conditioned\n"
     ]
    },
    {
     "data": {
      "image/png": "[encoded data removed]",
      "text/plain": [
       "<Figure size 432x288 with 1 Axes>"
      ]
     },
     "metadata": {
      "needs_background": "light"
     },
     "output_type": "display_data"
    }
   ],
   "source": [
    "## Degree = 2\n",
    "def verify2(results, df_in):\n",
    "    plt.scatter(df_in['item_size'],df_in['high_price'])\n",
    "    axes = plt.gca() # reference to axes\n",
    "    x_values = np.array(axes.get_xlim())  \n",
    "    y_values = results[0][0] + results[0][1]* x_values # y = b+mx (line eq)\n",
    "    #plt.plot(x_values, y_values, '--')\n",
    "    coefficients = np.polyfit(x_values, y_values, 3)\n",
    "\n",
    "    poly = np.poly1d(coefficients)\n",
    "\n",
    "\n",
    "    new_x = np.linspace(x_values[0], x_values[-1])\n",
    "\n",
    "    new_y = poly(new_x)\n",
    "\n",
    "\n",
    "    plt.plot(x_values, y_values, \"o\", new_x, new_y)\n",
    "\n",
    "    plt.xlim([x_values[0]-1, x_values[-1] + 1 ])\n",
    "    \n",
    "verify2(try_deg2, df)"
   ]
  },
  {
   "cell_type": "markdown",
   "metadata": {},
   "source": [
    "# Conclusiones"
   ]
  },
  {
   "cell_type": "markdown",
   "metadata": {},
   "source": [
    "#### Fue importante el análisis, ya que al poder manipular el número de iteraciones y alpha, pude notar como el modelo según los diferentes parámetros puede reducir el error iteración tras iteración. Proceso que demuestra la simplicidad, pero, efectividad del modelo de Gradient Descent.\n",
    "#### Posteriormente decidí aumentar el grado del modelo, por medio de ingresar una columna de 1 más, esto no presentó gran mejora en el modelo, unos cuantos decimales menos de mejora en error. Sin embargo el modelo que presento mejor rendimiento y mejora en error fue el modelo lineal con ul alpha de 0.01 mejorando el Error un 59.5%\n",
    "\n",
    "#### Fue valioso visualizar el comportamiento, del algoritmo, como iteración tras iteración el modelo reduce su costo y además, como se asemeja el modelo resultante a los datos. Quizá los datso no erán los óptimos para el modelo implementado, ya que a simplevista era díficl notar una relación entre los datos."
   ]
  }
 ],
 "metadata": {
  "kernelspec": {
   "display_name": "Python 3",
   "language": "python",
   "name": "python3"
  },
  "language_info": {
   "codemirror_mode": {
    "name": "ipython",
    "version": 3
   },
   "file_extension": ".py",
   "mimetype": "text/x-python",
   "name": "python",
   "nbconvert_exporter": "python",
   "pygments_lexer": "ipython3",
   "version": "3.5.3"
  }
 },
 "nbformat": 4,
 "nbformat_minor": 4
}
